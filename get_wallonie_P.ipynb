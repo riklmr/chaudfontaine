{
 "cells": [
  {
   "cell_type": "markdown",
   "metadata": {},
   "source": [
    "# request precipitation data from sethy wallonie\n",
    "Region Wallonia, Belgium has interesting data: hourly measurements of Q, R and H for may stations along the Meuse.\n"
   ]
  },
  {
   "cell_type": "code",
   "execution_count": 8,
   "metadata": {},
   "outputs": [],
   "source": [
    "import time\n",
    "import requests\n",
    "import pandas as pd"
   ]
  },
  {
   "cell_type": "code",
   "execution_count": 9,
   "metadata": {},
   "outputs": [
    {
     "name": "stdout",
     "output_type": "stream",
     "text": [
      "datasets/wallonie/stations_wallonia_precipitation.csv\r\n"
     ]
    }
   ],
   "source": [
    "!ls datasets/wallonie/stations*csv"
   ]
  },
  {
   "cell_type": "code",
   "execution_count": 37,
   "metadata": {},
   "outputs": [],
   "source": [
    "precip_stations = pd.read_csv(\"datasets/wallonie/stations_wallonia_precipitation.csv\", \n",
    "                              index_col='Code'\n",
    "                             )"
   ]
  },
  {
   "cell_type": "code",
   "execution_count": 38,
   "metadata": {},
   "outputs": [],
   "source": [
    "precip_stations = precip_stations.loc[precip_stations['Recipient'] != \"0\"]"
   ]
  },
  {
   "cell_type": "code",
   "execution_count": 42,
   "metadata": {},
   "outputs": [],
   "source": [
    "precip_stations.drop(columns=['Precipitation'], inplace=True)"
   ]
  },
  {
   "cell_type": "code",
   "execution_count": 43,
   "metadata": {},
   "outputs": [
    {
     "data": {
      "text/html": [
       "<div>\n",
       "<style scoped>\n",
       "    .dataframe tbody tr th:only-of-type {\n",
       "        vertical-align: middle;\n",
       "    }\n",
       "\n",
       "    .dataframe tbody tr th {\n",
       "        vertical-align: top;\n",
       "    }\n",
       "\n",
       "    .dataframe thead th {\n",
       "        text-align: right;\n",
       "    }\n",
       "</style>\n",
       "<table border=\"1\" class=\"dataframe\">\n",
       "  <thead>\n",
       "    <tr style=\"text-align: right;\">\n",
       "      <th></th>\n",
       "      <th>Nom</th>\n",
       "      <th>Rivière</th>\n",
       "      <th>Recipient</th>\n",
       "    </tr>\n",
       "    <tr>\n",
       "      <th>Code</th>\n",
       "      <th></th>\n",
       "      <th></th>\n",
       "      <th></th>\n",
       "    </tr>\n",
       "  </thead>\n",
       "  <tbody>\n",
       "    <tr>\n",
       "      <th>6967</th>\n",
       "      <td>BUTGENBACH</td>\n",
       "      <td>AMBLEVE</td>\n",
       "      <td>Meuse via Ourthe</td>\n",
       "    </tr>\n",
       "    <tr>\n",
       "      <th>6712</th>\n",
       "      <td>COO INF.</td>\n",
       "      <td>AMBLEVE</td>\n",
       "      <td>Meuse via Ourthe</td>\n",
       "    </tr>\n",
       "    <tr>\n",
       "      <th>6718</th>\n",
       "      <td>COO SUP.</td>\n",
       "      <td>AMBLEVE</td>\n",
       "      <td>Meuse via Ourthe</td>\n",
       "    </tr>\n",
       "    <tr>\n",
       "      <th>6657</th>\n",
       "      <td>LOUVEIGNE</td>\n",
       "      <td>AMBLEVE</td>\n",
       "      <td>Meuse via Ourthe</td>\n",
       "    </tr>\n",
       "    <tr>\n",
       "      <th>6958</th>\n",
       "      <td>ROBERTVILLE</td>\n",
       "      <td>AMBLEVE</td>\n",
       "      <td>Meuse via Ourthe</td>\n",
       "    </tr>\n",
       "  </tbody>\n",
       "</table>\n",
       "</div>"
      ],
      "text/plain": [
       "               Nom   Rivière         Recipient\n",
       "Code                                          \n",
       "6967   BUTGENBACH   AMBLEVE   Meuse via Ourthe\n",
       "6712     COO INF.   AMBLEVE   Meuse via Ourthe\n",
       "6718     COO SUP.   AMBLEVE   Meuse via Ourthe\n",
       "6657    LOUVEIGNE   AMBLEVE   Meuse via Ourthe\n",
       "6958  ROBERTVILLE   AMBLEVE   Meuse via Ourthe"
      ]
     },
     "execution_count": 43,
     "metadata": {},
     "output_type": "execute_result"
    }
   ],
   "source": [
    "precip_stations.head()"
   ]
  },
  {
   "cell_type": "code",
   "execution_count": 54,
   "metadata": {},
   "outputs": [
    {
     "data": {
      "text/html": [
       "<div>\n",
       "<style scoped>\n",
       "    .dataframe tbody tr th:only-of-type {\n",
       "        vertical-align: middle;\n",
       "    }\n",
       "\n",
       "    .dataframe tbody tr th {\n",
       "        vertical-align: top;\n",
       "    }\n",
       "\n",
       "    .dataframe thead th {\n",
       "        text-align: right;\n",
       "    }\n",
       "</style>\n",
       "<table border=\"1\" class=\"dataframe\">\n",
       "  <thead>\n",
       "    <tr style=\"text-align: right;\">\n",
       "      <th></th>\n",
       "      <th>Nom</th>\n",
       "      <th>Rivière</th>\n",
       "      <th>Recipient</th>\n",
       "    </tr>\n",
       "  </thead>\n",
       "  <tbody>\n",
       "    <tr>\n",
       "      <th>count</th>\n",
       "      <td>65</td>\n",
       "      <td>65</td>\n",
       "      <td>65</td>\n",
       "    </tr>\n",
       "    <tr>\n",
       "      <th>unique</th>\n",
       "      <td>65</td>\n",
       "      <td>15</td>\n",
       "      <td>4</td>\n",
       "    </tr>\n",
       "    <tr>\n",
       "      <th>top</th>\n",
       "      <td>MORNIMONT Bar-Ecluse</td>\n",
       "      <td>OURTHE</td>\n",
       "      <td>Meuse</td>\n",
       "    </tr>\n",
       "    <tr>\n",
       "      <th>freq</th>\n",
       "      <td>1</td>\n",
       "      <td>10</td>\n",
       "      <td>56</td>\n",
       "    </tr>\n",
       "  </tbody>\n",
       "</table>\n",
       "</div>"
      ],
      "text/plain": [
       "                         Nom  Rivière Recipient\n",
       "count                     65       65        65\n",
       "unique                    65       15         4\n",
       "top     MORNIMONT Bar-Ecluse  OURTHE      Meuse\n",
       "freq                       1       10        56"
      ]
     },
     "execution_count": 54,
     "metadata": {},
     "output_type": "execute_result"
    }
   ],
   "source": [
    "precip_stations.describe()"
   ]
  },
  {
   "cell_type": "code",
   "execution_count": 45,
   "metadata": {},
   "outputs": [
    {
     "name": "stdout",
     "output_type": "stream",
     "text": [
      "6967 BUTGENBACH \n",
      "6712 COO INF. \n",
      "6718 COO SUP. \n",
      "6657 LOUVEIGNE \n",
      "6958 ROBERTVILLE \n",
      "6848 VIELSALM \n",
      "9781 ATHUS \n",
      "9794 AUBANGE \n",
      "9816 ORVAL \n",
      "9797 SELANGE \n",
      "9743 TORGNY \n",
      "7865 PLATE TAILLE \n",
      "7888 SENZEILLES \n",
      "5596 AWANS \n",
      "5578 WAREMME \n",
      "5284 GEMMENICH \n",
      "8063 ANSEREMME \n",
      "8157 CINEY \n",
      "8138 CRUPET \n",
      "8189 FLORENNES \n",
      "8677 GEDINNE \n",
      "8128 SAINT-GERARD \n",
      "7296 VEDRIN \n",
      "7228 MODAVE \n",
      "8468 BEAURAING \n",
      "8348 DAVERDISSE \n",
      "8388 LIBIN \n",
      "8538 NASSOGNE \n",
      "8518 ROCHEFORT \n",
      "7207 BIERSET \n",
      "5757 LANAYE \n",
      "7168 LANDENNE \n",
      "7048 EREZEE \n",
      "6147 FLAMIERGES \n",
      "7087 MARCHE \n",
      "6128 ORTHO \n",
      "7016 OUFFET \n",
      "6048 RACHAMPS-NOVILLE \n",
      "6168 SAINT-HUBERT Aéro \n",
      "7003 SART-TILMAN \n",
      "7068 SOMME-LEUZE \n",
      "6858 TAILLES \n",
      "7678 GERPINNES \n",
      "7629 LIGNY \n",
      "7577 MOMIGNIES \n",
      "7395 MONCEAU Bar-Ecluse \n",
      "7335 MORNIMONT Bar-Ecluse\n",
      "7967 SIVRY \n",
      "7485 SOLRE S/S Bar-Ecluse\n",
      "9596 ARLON \n",
      "9632 BERTRIX \n",
      "9469 BOUILLON \n",
      "9574 FRATIN \n",
      "9588 MEIX-LE-TIGE \n",
      "9698 NAMOUSSART \n",
      "9617 SUGNY \n",
      "9436 VRESSE \n",
      "6537 BALMORAL \n",
      "5649 BATTICE \n",
      "6550 JALHAY \n",
      "6497 TERNELL \n",
      "9652 STRAIMONT \n",
      "9137 BOUSSU-EN-FAGNE \n",
      "9288 CUL-DES-SARTS \n",
      "9215 PETIGNY Barrage \n"
     ]
    }
   ],
   "source": [
    "for station_code in precip_stations.index:\n",
    "    print(station_code, precip_stations.loc[station_code, 'Nom'])"
   ]
  },
  {
   "cell_type": "code",
   "execution_count": null,
   "metadata": {},
   "outputs": [],
   "source": []
  },
  {
   "cell_type": "code",
   "execution_count": null,
   "metadata": {},
   "outputs": [],
   "source": []
  },
  {
   "cell_type": "code",
   "execution_count": null,
   "metadata": {},
   "outputs": [],
   "source": []
  },
  {
   "cell_type": "code",
   "execution_count": null,
   "metadata": {},
   "outputs": [],
   "source": []
  },
  {
   "cell_type": "code",
   "execution_count": 46,
   "metadata": {},
   "outputs": [],
   "source": [
    "# about the requester, make sure the eimail address is valid\n",
    "# you will receive all zipped csv files here\n",
    "name = \"RikDeDeken\"\n",
    "address = \"Buitendijk3HeinenoordNL\"\n",
    "email = \"hydro%40parelmoer.xs4all.nl\"\n"
   ]
  },
  {
   "cell_type": "markdown",
   "metadata": {},
   "source": [
    "```\n",
    "code  explanation   type of observation\n",
    "0015  precipitation Pluviographes\n",
    "1002  debit         Limnigraphes\n",
    "1011  hauteur       Limnigraphes\n",
    "```"
   ]
  },
  {
   "cell_type": "code",
   "execution_count": 47,
   "metadata": {},
   "outputs": [],
   "source": [
    "# station_code = list(debit_stations.keys())[0]\n",
    "obs_code = \"0015\"\n"
   ]
  },
  {
   "cell_type": "code",
   "execution_count": 48,
   "metadata": {},
   "outputs": [],
   "source": [
    "url  = \"http://voies-hydrauliques.wallonie.be\"\n",
    "url += \"/opencms/opencms/fr/hydro/Archive/annuaires/stathorairetele.do?\"\n",
    "url += \"PD=Téléchargement\"\n",
    "url += \"&\"\n",
    "url += \"nom=\"\n",
    "url += name\n",
    "url += \"&\"\n",
    "url += \"adresse=\"\n",
    "url += address\n",
    "url += \"&\"\n",
    "url += \"email=\"\n",
    "url += email\n",
    "url += \"&\"\n",
    "url += \"objectif=etude\"\n",
    "url += \"&\"\n",
    "url += \"util=util\"\n",
    "url += \"&\"\n",
    "# url += \"code=\"\n",
    "# url += station_code\n",
    "# url += obs_code\n"
   ]
  },
  {
   "cell_type": "code",
   "execution_count": 49,
   "metadata": {},
   "outputs": [
    {
     "data": {
      "text/plain": [
       "'http://voies-hydrauliques.wallonie.be/opencms/opencms/fr/hydro/Archive/annuaires/stathorairetele.do?PD=Téléchargement&nom=RikDeDeken&adresse=Buitendijk3HeinenoordNL&email=hydro%40parelmoer.xs4all.nl&objectif=etude&util=util&'"
      ]
     },
     "execution_count": 49,
     "metadata": {},
     "output_type": "execute_result"
    }
   ],
   "source": [
    "url"
   ]
  },
  {
   "cell_type": "raw",
   "metadata": {},
   "source": [
    "response = requests.get(url)"
   ]
  },
  {
   "cell_type": "code",
   "execution_count": 53,
   "metadata": {
    "scrolled": false
   },
   "outputs": [
    {
     "name": "stdout",
     "output_type": "stream",
     "text": [
      "requesting hourly Precipitation from 6967 BUTGENBACH  http://voies-hydrauliques.wallonie.be/opencms/opencms/fr/hydro/Archive/annuaires/stathorairetele.do?PD=Téléchargement&nom=RikDeDeken&adresse=Buitendijk3HeinenoordNL&email=hydro%40parelmoer.xs4all.nl&objectif=etude&util=util&code=69670015\n",
      "sleeping 23 seconds...\n",
      "requesting hourly Precipitation from 6712 COO INF.  http://voies-hydrauliques.wallonie.be/opencms/opencms/fr/hydro/Archive/annuaires/stathorairetele.do?PD=Téléchargement&nom=RikDeDeken&adresse=Buitendijk3HeinenoordNL&email=hydro%40parelmoer.xs4all.nl&objectif=etude&util=util&code=67120015\n",
      "sleeping 23 seconds...\n",
      "requesting hourly Precipitation from 6718 COO SUP.  http://voies-hydrauliques.wallonie.be/opencms/opencms/fr/hydro/Archive/annuaires/stathorairetele.do?PD=Téléchargement&nom=RikDeDeken&adresse=Buitendijk3HeinenoordNL&email=hydro%40parelmoer.xs4all.nl&objectif=etude&util=util&code=67180015\n",
      "sleeping 23 seconds...\n",
      "requesting hourly Precipitation from 6657 LOUVEIGNE  http://voies-hydrauliques.wallonie.be/opencms/opencms/fr/hydro/Archive/annuaires/stathorairetele.do?PD=Téléchargement&nom=RikDeDeken&adresse=Buitendijk3HeinenoordNL&email=hydro%40parelmoer.xs4all.nl&objectif=etude&util=util&code=66570015\n",
      "sleeping 23 seconds...\n",
      "requesting hourly Precipitation from 6958 ROBERTVILLE  http://voies-hydrauliques.wallonie.be/opencms/opencms/fr/hydro/Archive/annuaires/stathorairetele.do?PD=Téléchargement&nom=RikDeDeken&adresse=Buitendijk3HeinenoordNL&email=hydro%40parelmoer.xs4all.nl&objectif=etude&util=util&code=69580015\n",
      "sleeping 23 seconds...\n",
      "requesting hourly Precipitation from 6848 VIELSALM  http://voies-hydrauliques.wallonie.be/opencms/opencms/fr/hydro/Archive/annuaires/stathorairetele.do?PD=Téléchargement&nom=RikDeDeken&adresse=Buitendijk3HeinenoordNL&email=hydro%40parelmoer.xs4all.nl&objectif=etude&util=util&code=68480015\n",
      "sleeping 23 seconds...\n",
      "requesting hourly Precipitation from 9781 ATHUS  http://voies-hydrauliques.wallonie.be/opencms/opencms/fr/hydro/Archive/annuaires/stathorairetele.do?PD=Téléchargement&nom=RikDeDeken&adresse=Buitendijk3HeinenoordNL&email=hydro%40parelmoer.xs4all.nl&objectif=etude&util=util&code=97810015\n",
      "sleeping 23 seconds...\n",
      "requesting hourly Precipitation from 9794 AUBANGE  http://voies-hydrauliques.wallonie.be/opencms/opencms/fr/hydro/Archive/annuaires/stathorairetele.do?PD=Téléchargement&nom=RikDeDeken&adresse=Buitendijk3HeinenoordNL&email=hydro%40parelmoer.xs4all.nl&objectif=etude&util=util&code=97940015\n",
      "sleeping 23 seconds...\n",
      "requesting hourly Precipitation from 9816 ORVAL  http://voies-hydrauliques.wallonie.be/opencms/opencms/fr/hydro/Archive/annuaires/stathorairetele.do?PD=Téléchargement&nom=RikDeDeken&adresse=Buitendijk3HeinenoordNL&email=hydro%40parelmoer.xs4all.nl&objectif=etude&util=util&code=98160015\n",
      "sleeping 23 seconds...\n",
      "requesting hourly Precipitation from 9797 SELANGE  http://voies-hydrauliques.wallonie.be/opencms/opencms/fr/hydro/Archive/annuaires/stathorairetele.do?PD=Téléchargement&nom=RikDeDeken&adresse=Buitendijk3HeinenoordNL&email=hydro%40parelmoer.xs4all.nl&objectif=etude&util=util&code=97970015\n",
      "sleeping 23 seconds...\n",
      "requesting hourly Precipitation from 9743 TORGNY  http://voies-hydrauliques.wallonie.be/opencms/opencms/fr/hydro/Archive/annuaires/stathorairetele.do?PD=Téléchargement&nom=RikDeDeken&adresse=Buitendijk3HeinenoordNL&email=hydro%40parelmoer.xs4all.nl&objectif=etude&util=util&code=97430015\n",
      "sleeping 23 seconds...\n",
      "requesting hourly Precipitation from 7865 PLATE TAILLE  http://voies-hydrauliques.wallonie.be/opencms/opencms/fr/hydro/Archive/annuaires/stathorairetele.do?PD=Téléchargement&nom=RikDeDeken&adresse=Buitendijk3HeinenoordNL&email=hydro%40parelmoer.xs4all.nl&objectif=etude&util=util&code=78650015\n",
      "sleeping 23 seconds...\n",
      "requesting hourly Precipitation from 7888 SENZEILLES  http://voies-hydrauliques.wallonie.be/opencms/opencms/fr/hydro/Archive/annuaires/stathorairetele.do?PD=Téléchargement&nom=RikDeDeken&adresse=Buitendijk3HeinenoordNL&email=hydro%40parelmoer.xs4all.nl&objectif=etude&util=util&code=78880015\n",
      "sleeping 23 seconds...\n",
      "requesting hourly Precipitation from 5596 AWANS  http://voies-hydrauliques.wallonie.be/opencms/opencms/fr/hydro/Archive/annuaires/stathorairetele.do?PD=Téléchargement&nom=RikDeDeken&adresse=Buitendijk3HeinenoordNL&email=hydro%40parelmoer.xs4all.nl&objectif=etude&util=util&code=55960015\n",
      "sleeping 23 seconds...\n",
      "requesting hourly Precipitation from 5578 WAREMME  http://voies-hydrauliques.wallonie.be/opencms/opencms/fr/hydro/Archive/annuaires/stathorairetele.do?PD=Téléchargement&nom=RikDeDeken&adresse=Buitendijk3HeinenoordNL&email=hydro%40parelmoer.xs4all.nl&objectif=etude&util=util&code=55780015\n",
      "sleeping 23 seconds...\n",
      "requesting hourly Precipitation from 5284 GEMMENICH  http://voies-hydrauliques.wallonie.be/opencms/opencms/fr/hydro/Archive/annuaires/stathorairetele.do?PD=Téléchargement&nom=RikDeDeken&adresse=Buitendijk3HeinenoordNL&email=hydro%40parelmoer.xs4all.nl&objectif=etude&util=util&code=52840015\n",
      "sleeping 23 seconds...\n",
      "requesting hourly Precipitation from 8063 ANSEREMME  http://voies-hydrauliques.wallonie.be/opencms/opencms/fr/hydro/Archive/annuaires/stathorairetele.do?PD=Téléchargement&nom=RikDeDeken&adresse=Buitendijk3HeinenoordNL&email=hydro%40parelmoer.xs4all.nl&objectif=etude&util=util&code=80630015\n",
      "sleeping 23 seconds...\n",
      "requesting hourly Precipitation from 8157 CINEY  http://voies-hydrauliques.wallonie.be/opencms/opencms/fr/hydro/Archive/annuaires/stathorairetele.do?PD=Téléchargement&nom=RikDeDeken&adresse=Buitendijk3HeinenoordNL&email=hydro%40parelmoer.xs4all.nl&objectif=etude&util=util&code=81570015\n",
      "sleeping 23 seconds...\n",
      "requesting hourly Precipitation from 8138 CRUPET  http://voies-hydrauliques.wallonie.be/opencms/opencms/fr/hydro/Archive/annuaires/stathorairetele.do?PD=Téléchargement&nom=RikDeDeken&adresse=Buitendijk3HeinenoordNL&email=hydro%40parelmoer.xs4all.nl&objectif=etude&util=util&code=81380015\n",
      "sleeping 23 seconds...\n",
      "requesting hourly Precipitation from 8189 FLORENNES  http://voies-hydrauliques.wallonie.be/opencms/opencms/fr/hydro/Archive/annuaires/stathorairetele.do?PD=Téléchargement&nom=RikDeDeken&adresse=Buitendijk3HeinenoordNL&email=hydro%40parelmoer.xs4all.nl&objectif=etude&util=util&code=81890015\n",
      "sleeping 23 seconds...\n",
      "requesting hourly Precipitation from 8677 GEDINNE  http://voies-hydrauliques.wallonie.be/opencms/opencms/fr/hydro/Archive/annuaires/stathorairetele.do?PD=Téléchargement&nom=RikDeDeken&adresse=Buitendijk3HeinenoordNL&email=hydro%40parelmoer.xs4all.nl&objectif=etude&util=util&code=86770015\n",
      "sleeping 23 seconds...\n",
      "requesting hourly Precipitation from 8128 SAINT-GERARD  http://voies-hydrauliques.wallonie.be/opencms/opencms/fr/hydro/Archive/annuaires/stathorairetele.do?PD=Téléchargement&nom=RikDeDeken&adresse=Buitendijk3HeinenoordNL&email=hydro%40parelmoer.xs4all.nl&objectif=etude&util=util&code=81280015\n",
      "sleeping 23 seconds...\n",
      "requesting hourly Precipitation from 7296 VEDRIN  http://voies-hydrauliques.wallonie.be/opencms/opencms/fr/hydro/Archive/annuaires/stathorairetele.do?PD=Téléchargement&nom=RikDeDeken&adresse=Buitendijk3HeinenoordNL&email=hydro%40parelmoer.xs4all.nl&objectif=etude&util=util&code=72960015\n",
      "sleeping 23 seconds...\n",
      "requesting hourly Precipitation from 7228 MODAVE  http://voies-hydrauliques.wallonie.be/opencms/opencms/fr/hydro/Archive/annuaires/stathorairetele.do?PD=Téléchargement&nom=RikDeDeken&adresse=Buitendijk3HeinenoordNL&email=hydro%40parelmoer.xs4all.nl&objectif=etude&util=util&code=72280015\n",
      "sleeping 23 seconds...\n",
      "requesting hourly Precipitation from 8468 BEAURAING  http://voies-hydrauliques.wallonie.be/opencms/opencms/fr/hydro/Archive/annuaires/stathorairetele.do?PD=Téléchargement&nom=RikDeDeken&adresse=Buitendijk3HeinenoordNL&email=hydro%40parelmoer.xs4all.nl&objectif=etude&util=util&code=84680015\n",
      "sleeping 23 seconds...\n",
      "requesting hourly Precipitation from 8348 DAVERDISSE  http://voies-hydrauliques.wallonie.be/opencms/opencms/fr/hydro/Archive/annuaires/stathorairetele.do?PD=Téléchargement&nom=RikDeDeken&adresse=Buitendijk3HeinenoordNL&email=hydro%40parelmoer.xs4all.nl&objectif=etude&util=util&code=83480015\n",
      "sleeping 23 seconds...\n",
      "requesting hourly Precipitation from 8388 LIBIN  http://voies-hydrauliques.wallonie.be/opencms/opencms/fr/hydro/Archive/annuaires/stathorairetele.do?PD=Téléchargement&nom=RikDeDeken&adresse=Buitendijk3HeinenoordNL&email=hydro%40parelmoer.xs4all.nl&objectif=etude&util=util&code=83880015\n"
     ]
    },
    {
     "name": "stdout",
     "output_type": "stream",
     "text": [
      "sleeping 23 seconds...\n",
      "requesting hourly Precipitation from 8538 NASSOGNE  http://voies-hydrauliques.wallonie.be/opencms/opencms/fr/hydro/Archive/annuaires/stathorairetele.do?PD=Téléchargement&nom=RikDeDeken&adresse=Buitendijk3HeinenoordNL&email=hydro%40parelmoer.xs4all.nl&objectif=etude&util=util&code=85380015\n",
      "sleeping 23 seconds...\n",
      "requesting hourly Precipitation from 8518 ROCHEFORT  http://voies-hydrauliques.wallonie.be/opencms/opencms/fr/hydro/Archive/annuaires/stathorairetele.do?PD=Téléchargement&nom=RikDeDeken&adresse=Buitendijk3HeinenoordNL&email=hydro%40parelmoer.xs4all.nl&objectif=etude&util=util&code=85180015\n",
      "sleeping 23 seconds...\n",
      "requesting hourly Precipitation from 7207 BIERSET  http://voies-hydrauliques.wallonie.be/opencms/opencms/fr/hydro/Archive/annuaires/stathorairetele.do?PD=Téléchargement&nom=RikDeDeken&adresse=Buitendijk3HeinenoordNL&email=hydro%40parelmoer.xs4all.nl&objectif=etude&util=util&code=72070015\n",
      "sleeping 23 seconds...\n",
      "requesting hourly Precipitation from 5757 LANAYE  http://voies-hydrauliques.wallonie.be/opencms/opencms/fr/hydro/Archive/annuaires/stathorairetele.do?PD=Téléchargement&nom=RikDeDeken&adresse=Buitendijk3HeinenoordNL&email=hydro%40parelmoer.xs4all.nl&objectif=etude&util=util&code=57570015\n",
      "sleeping 23 seconds...\n",
      "requesting hourly Precipitation from 7168 LANDENNE  http://voies-hydrauliques.wallonie.be/opencms/opencms/fr/hydro/Archive/annuaires/stathorairetele.do?PD=Téléchargement&nom=RikDeDeken&adresse=Buitendijk3HeinenoordNL&email=hydro%40parelmoer.xs4all.nl&objectif=etude&util=util&code=71680015\n",
      "sleeping 23 seconds...\n",
      "requesting hourly Precipitation from 7048 EREZEE  http://voies-hydrauliques.wallonie.be/opencms/opencms/fr/hydro/Archive/annuaires/stathorairetele.do?PD=Téléchargement&nom=RikDeDeken&adresse=Buitendijk3HeinenoordNL&email=hydro%40parelmoer.xs4all.nl&objectif=etude&util=util&code=70480015\n",
      "sleeping 23 seconds...\n",
      "requesting hourly Precipitation from 6147 FLAMIERGES  http://voies-hydrauliques.wallonie.be/opencms/opencms/fr/hydro/Archive/annuaires/stathorairetele.do?PD=Téléchargement&nom=RikDeDeken&adresse=Buitendijk3HeinenoordNL&email=hydro%40parelmoer.xs4all.nl&objectif=etude&util=util&code=61470015\n",
      "sleeping 23 seconds...\n",
      "requesting hourly Precipitation from 7087 MARCHE  http://voies-hydrauliques.wallonie.be/opencms/opencms/fr/hydro/Archive/annuaires/stathorairetele.do?PD=Téléchargement&nom=RikDeDeken&adresse=Buitendijk3HeinenoordNL&email=hydro%40parelmoer.xs4all.nl&objectif=etude&util=util&code=70870015\n",
      "sleeping 23 seconds...\n",
      "requesting hourly Precipitation from 6128 ORTHO  http://voies-hydrauliques.wallonie.be/opencms/opencms/fr/hydro/Archive/annuaires/stathorairetele.do?PD=Téléchargement&nom=RikDeDeken&adresse=Buitendijk3HeinenoordNL&email=hydro%40parelmoer.xs4all.nl&objectif=etude&util=util&code=61280015\n",
      "sleeping 23 seconds...\n",
      "requesting hourly Precipitation from 7016 OUFFET  http://voies-hydrauliques.wallonie.be/opencms/opencms/fr/hydro/Archive/annuaires/stathorairetele.do?PD=Téléchargement&nom=RikDeDeken&adresse=Buitendijk3HeinenoordNL&email=hydro%40parelmoer.xs4all.nl&objectif=etude&util=util&code=70160015\n",
      "sleeping 23 seconds...\n",
      "requesting hourly Precipitation from 6048 RACHAMPS-NOVILLE  http://voies-hydrauliques.wallonie.be/opencms/opencms/fr/hydro/Archive/annuaires/stathorairetele.do?PD=Téléchargement&nom=RikDeDeken&adresse=Buitendijk3HeinenoordNL&email=hydro%40parelmoer.xs4all.nl&objectif=etude&util=util&code=60480015\n",
      "sleeping 23 seconds...\n",
      "requesting hourly Precipitation from 6168 SAINT-HUBERT Aéro  http://voies-hydrauliques.wallonie.be/opencms/opencms/fr/hydro/Archive/annuaires/stathorairetele.do?PD=Téléchargement&nom=RikDeDeken&adresse=Buitendijk3HeinenoordNL&email=hydro%40parelmoer.xs4all.nl&objectif=etude&util=util&code=61680015\n",
      "sleeping 23 seconds...\n",
      "requesting hourly Precipitation from 7003 SART-TILMAN  http://voies-hydrauliques.wallonie.be/opencms/opencms/fr/hydro/Archive/annuaires/stathorairetele.do?PD=Téléchargement&nom=RikDeDeken&adresse=Buitendijk3HeinenoordNL&email=hydro%40parelmoer.xs4all.nl&objectif=etude&util=util&code=70030015\n",
      "sleeping 23 seconds...\n",
      "requesting hourly Precipitation from 7068 SOMME-LEUZE  http://voies-hydrauliques.wallonie.be/opencms/opencms/fr/hydro/Archive/annuaires/stathorairetele.do?PD=Téléchargement&nom=RikDeDeken&adresse=Buitendijk3HeinenoordNL&email=hydro%40parelmoer.xs4all.nl&objectif=etude&util=util&code=70680015\n",
      "sleeping 23 seconds...\n",
      "requesting hourly Precipitation from 6858 TAILLES  http://voies-hydrauliques.wallonie.be/opencms/opencms/fr/hydro/Archive/annuaires/stathorairetele.do?PD=Téléchargement&nom=RikDeDeken&adresse=Buitendijk3HeinenoordNL&email=hydro%40parelmoer.xs4all.nl&objectif=etude&util=util&code=68580015\n",
      "sleeping 23 seconds...\n",
      "requesting hourly Precipitation from 7678 GERPINNES  http://voies-hydrauliques.wallonie.be/opencms/opencms/fr/hydro/Archive/annuaires/stathorairetele.do?PD=Téléchargement&nom=RikDeDeken&adresse=Buitendijk3HeinenoordNL&email=hydro%40parelmoer.xs4all.nl&objectif=etude&util=util&code=76780015\n",
      "sleeping 23 seconds...\n",
      "requesting hourly Precipitation from 7629 LIGNY  http://voies-hydrauliques.wallonie.be/opencms/opencms/fr/hydro/Archive/annuaires/stathorairetele.do?PD=Téléchargement&nom=RikDeDeken&adresse=Buitendijk3HeinenoordNL&email=hydro%40parelmoer.xs4all.nl&objectif=etude&util=util&code=76290015\n",
      "sleeping 23 seconds...\n",
      "requesting hourly Precipitation from 7577 MOMIGNIES  http://voies-hydrauliques.wallonie.be/opencms/opencms/fr/hydro/Archive/annuaires/stathorairetele.do?PD=Téléchargement&nom=RikDeDeken&adresse=Buitendijk3HeinenoordNL&email=hydro%40parelmoer.xs4all.nl&objectif=etude&util=util&code=75770015\n",
      "sleeping 23 seconds...\n",
      "requesting hourly Precipitation from 7395 MONCEAU Bar-Ecluse  http://voies-hydrauliques.wallonie.be/opencms/opencms/fr/hydro/Archive/annuaires/stathorairetele.do?PD=Téléchargement&nom=RikDeDeken&adresse=Buitendijk3HeinenoordNL&email=hydro%40parelmoer.xs4all.nl&objectif=etude&util=util&code=73950015\n",
      "sleeping 23 seconds...\n",
      "requesting hourly Precipitation from 7335 MORNIMONT Bar-Ecluse http://voies-hydrauliques.wallonie.be/opencms/opencms/fr/hydro/Archive/annuaires/stathorairetele.do?PD=Téléchargement&nom=RikDeDeken&adresse=Buitendijk3HeinenoordNL&email=hydro%40parelmoer.xs4all.nl&objectif=etude&util=util&code=73350015\n",
      "sleeping 23 seconds...\n",
      "requesting hourly Precipitation from 7967 SIVRY  http://voies-hydrauliques.wallonie.be/opencms/opencms/fr/hydro/Archive/annuaires/stathorairetele.do?PD=Téléchargement&nom=RikDeDeken&adresse=Buitendijk3HeinenoordNL&email=hydro%40parelmoer.xs4all.nl&objectif=etude&util=util&code=79670015\n",
      "sleeping 23 seconds...\n",
      "requesting hourly Precipitation from 7485 SOLRE S/S Bar-Ecluse http://voies-hydrauliques.wallonie.be/opencms/opencms/fr/hydro/Archive/annuaires/stathorairetele.do?PD=Téléchargement&nom=RikDeDeken&adresse=Buitendijk3HeinenoordNL&email=hydro%40parelmoer.xs4all.nl&objectif=etude&util=util&code=74850015\n",
      "sleeping 23 seconds...\n",
      "requesting hourly Precipitation from 9596 ARLON  http://voies-hydrauliques.wallonie.be/opencms/opencms/fr/hydro/Archive/annuaires/stathorairetele.do?PD=Téléchargement&nom=RikDeDeken&adresse=Buitendijk3HeinenoordNL&email=hydro%40parelmoer.xs4all.nl&objectif=etude&util=util&code=95960015\n",
      "sleeping 23 seconds...\n",
      "requesting hourly Precipitation from 9632 BERTRIX  http://voies-hydrauliques.wallonie.be/opencms/opencms/fr/hydro/Archive/annuaires/stathorairetele.do?PD=Téléchargement&nom=RikDeDeken&adresse=Buitendijk3HeinenoordNL&email=hydro%40parelmoer.xs4all.nl&objectif=etude&util=util&code=96320015\n",
      "sleeping 23 seconds...\n",
      "requesting hourly Precipitation from 9469 BOUILLON  http://voies-hydrauliques.wallonie.be/opencms/opencms/fr/hydro/Archive/annuaires/stathorairetele.do?PD=Téléchargement&nom=RikDeDeken&adresse=Buitendijk3HeinenoordNL&email=hydro%40parelmoer.xs4all.nl&objectif=etude&util=util&code=94690015\n",
      "sleeping 23 seconds...\n",
      "requesting hourly Precipitation from 9574 FRATIN  http://voies-hydrauliques.wallonie.be/opencms/opencms/fr/hydro/Archive/annuaires/stathorairetele.do?PD=Téléchargement&nom=RikDeDeken&adresse=Buitendijk3HeinenoordNL&email=hydro%40parelmoer.xs4all.nl&objectif=etude&util=util&code=95740015\n",
      "sleeping 23 seconds...\n"
     ]
    },
    {
     "name": "stdout",
     "output_type": "stream",
     "text": [
      "requesting hourly Precipitation from 9588 MEIX-LE-TIGE  http://voies-hydrauliques.wallonie.be/opencms/opencms/fr/hydro/Archive/annuaires/stathorairetele.do?PD=Téléchargement&nom=RikDeDeken&adresse=Buitendijk3HeinenoordNL&email=hydro%40parelmoer.xs4all.nl&objectif=etude&util=util&code=95880015\n",
      "sleeping 23 seconds...\n",
      "requesting hourly Precipitation from 9698 NAMOUSSART  http://voies-hydrauliques.wallonie.be/opencms/opencms/fr/hydro/Archive/annuaires/stathorairetele.do?PD=Téléchargement&nom=RikDeDeken&adresse=Buitendijk3HeinenoordNL&email=hydro%40parelmoer.xs4all.nl&objectif=etude&util=util&code=96980015\n",
      "sleeping 23 seconds...\n",
      "requesting hourly Precipitation from 9617 SUGNY  http://voies-hydrauliques.wallonie.be/opencms/opencms/fr/hydro/Archive/annuaires/stathorairetele.do?PD=Téléchargement&nom=RikDeDeken&adresse=Buitendijk3HeinenoordNL&email=hydro%40parelmoer.xs4all.nl&objectif=etude&util=util&code=96170015\n",
      "sleeping 23 seconds...\n",
      "requesting hourly Precipitation from 9436 VRESSE  http://voies-hydrauliques.wallonie.be/opencms/opencms/fr/hydro/Archive/annuaires/stathorairetele.do?PD=Téléchargement&nom=RikDeDeken&adresse=Buitendijk3HeinenoordNL&email=hydro%40parelmoer.xs4all.nl&objectif=etude&util=util&code=94360015\n",
      "sleeping 23 seconds...\n",
      "requesting hourly Precipitation from 6537 BALMORAL  http://voies-hydrauliques.wallonie.be/opencms/opencms/fr/hydro/Archive/annuaires/stathorairetele.do?PD=Téléchargement&nom=RikDeDeken&adresse=Buitendijk3HeinenoordNL&email=hydro%40parelmoer.xs4all.nl&objectif=etude&util=util&code=65370015\n",
      "sleeping 23 seconds...\n",
      "requesting hourly Precipitation from 5649 BATTICE  http://voies-hydrauliques.wallonie.be/opencms/opencms/fr/hydro/Archive/annuaires/stathorairetele.do?PD=Téléchargement&nom=RikDeDeken&adresse=Buitendijk3HeinenoordNL&email=hydro%40parelmoer.xs4all.nl&objectif=etude&util=util&code=56490015\n",
      "sleeping 23 seconds...\n",
      "requesting hourly Precipitation from 6550 JALHAY  http://voies-hydrauliques.wallonie.be/opencms/opencms/fr/hydro/Archive/annuaires/stathorairetele.do?PD=Téléchargement&nom=RikDeDeken&adresse=Buitendijk3HeinenoordNL&email=hydro%40parelmoer.xs4all.nl&objectif=etude&util=util&code=65500015\n",
      "sleeping 23 seconds...\n",
      "requesting hourly Precipitation from 6497 TERNELL  http://voies-hydrauliques.wallonie.be/opencms/opencms/fr/hydro/Archive/annuaires/stathorairetele.do?PD=Téléchargement&nom=RikDeDeken&adresse=Buitendijk3HeinenoordNL&email=hydro%40parelmoer.xs4all.nl&objectif=etude&util=util&code=64970015\n",
      "sleeping 23 seconds...\n",
      "requesting hourly Precipitation from 9652 STRAIMONT  http://voies-hydrauliques.wallonie.be/opencms/opencms/fr/hydro/Archive/annuaires/stathorairetele.do?PD=Téléchargement&nom=RikDeDeken&adresse=Buitendijk3HeinenoordNL&email=hydro%40parelmoer.xs4all.nl&objectif=etude&util=util&code=96520015\n",
      "sleeping 23 seconds...\n",
      "requesting hourly Precipitation from 9137 BOUSSU-EN-FAGNE  http://voies-hydrauliques.wallonie.be/opencms/opencms/fr/hydro/Archive/annuaires/stathorairetele.do?PD=Téléchargement&nom=RikDeDeken&adresse=Buitendijk3HeinenoordNL&email=hydro%40parelmoer.xs4all.nl&objectif=etude&util=util&code=91370015\n",
      "sleeping 23 seconds...\n",
      "requesting hourly Precipitation from 9288 CUL-DES-SARTS  http://voies-hydrauliques.wallonie.be/opencms/opencms/fr/hydro/Archive/annuaires/stathorairetele.do?PD=Téléchargement&nom=RikDeDeken&adresse=Buitendijk3HeinenoordNL&email=hydro%40parelmoer.xs4all.nl&objectif=etude&util=util&code=92880015\n",
      "sleeping 23 seconds...\n",
      "requesting hourly Precipitation from 9215 PETIGNY Barrage  http://voies-hydrauliques.wallonie.be/opencms/opencms/fr/hydro/Archive/annuaires/stathorairetele.do?PD=Téléchargement&nom=RikDeDeken&adresse=Buitendijk3HeinenoordNL&email=hydro%40parelmoer.xs4all.nl&objectif=etude&util=util&code=92150015\n",
      "sleeping 23 seconds...\n"
     ]
    }
   ],
   "source": [
    "for station_code in precip_stations.index:\n",
    "    station_name = precip_stations.loc[station_code, 'Nom']\n",
    "    this_url = url + \"code=\"\n",
    "    this_url += str(station_code)\n",
    "    this_url += obs_code\n",
    "    print(\"requesting hourly Precipitation from\", station_code, station_name, this_url)\n",
    "    response = requests.get(this_url)\n",
    "    \n",
    "    print(\"sleeping 23 seconds...\")\n",
    "    time.sleep(23)\n",
    "#\n"
   ]
  },
  {
   "cell_type": "code",
   "execution_count": null,
   "metadata": {},
   "outputs": [],
   "source": []
  },
  {
   "cell_type": "code",
   "execution_count": null,
   "metadata": {},
   "outputs": [],
   "source": []
  },
  {
   "cell_type": "code",
   "execution_count": null,
   "metadata": {},
   "outputs": [],
   "source": []
  },
  {
   "cell_type": "code",
   "execution_count": null,
   "metadata": {},
   "outputs": [],
   "source": []
  }
 ],
 "metadata": {
  "kernelspec": {
   "display_name": "Python 3",
   "language": "python",
   "name": "python3"
  },
  "language_info": {
   "codemirror_mode": {
    "name": "ipython",
    "version": 3
   },
   "file_extension": ".py",
   "mimetype": "text/x-python",
   "name": "python",
   "nbconvert_exporter": "python",
   "pygments_lexer": "ipython3",
   "version": "3.6.6"
  }
 },
 "nbformat": 4,
 "nbformat_minor": 2
}
