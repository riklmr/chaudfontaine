{
 "cells": [
  {
   "cell_type": "markdown",
   "metadata": {},
   "source": [
    "# request data from sethy wallonie\n",
    "Region Wallonia, Belgium has interesting data: hourly measurements of Q, R and H for may stations along the Meuse.\n"
   ]
  },
  {
   "cell_type": "code",
   "execution_count": 1,
   "metadata": {},
   "outputs": [
    {
     "ename": "ModuleNotFoundError",
     "evalue": "No module named 'requests'",
     "output_type": "error",
     "traceback": [
      "\u001b[0;31m---------------------------------------------------------------------------\u001b[0m",
      "\u001b[0;31mModuleNotFoundError\u001b[0m                       Traceback (most recent call last)",
      "\u001b[0;32m<ipython-input-1-867cc4256d6a>\u001b[0m in \u001b[0;36m<module>\u001b[0;34m\u001b[0m\n\u001b[1;32m      1\u001b[0m \u001b[0;32mimport\u001b[0m \u001b[0mtime\u001b[0m\u001b[0;34m\u001b[0m\u001b[0;34m\u001b[0m\u001b[0m\n\u001b[0;32m----> 2\u001b[0;31m \u001b[0;32mimport\u001b[0m \u001b[0mrequests\u001b[0m\u001b[0;34m\u001b[0m\u001b[0;34m\u001b[0m\u001b[0m\n\u001b[0m",
      "\u001b[0;31mModuleNotFoundError\u001b[0m: No module named 'requests'"
     ]
    }
   ],
   "source": [
    "import time\n",
    "import requests"
   ]
  },
  {
   "cell_type": "code",
   "execution_count": 2,
   "metadata": {},
   "outputs": [],
   "source": [
    "# Q\n",
    "debit_stations = {\n",
    "    \"5291\":\"KELMIS (LA CALAMINE)\",\n",
    "    \"5572\":\"BERGILERS Amont\",\n",
    "    \"5826\":\"SAUHEID\",\n",
    "    \"5921\":\"TABREUX\",\n",
    "    \"5953\":\"DURBUY\",\n",
    "    \"5962\":\"HOTTON\",\n",
    "    \"5991\":\"NISRAMONT\",\n",
    "    \"6021\":\"MABOMPRE\",\n",
    "    \"6122\":\"ORTHO\",\n",
    "    \"6228\":\"CHAUDFONTAINE Pisc\",\n",
    "    \"6526\":\"BELLEHEID\",\n",
    "    \"6621\":\"MARTINRIVE\",\n",
    "    \"6671\":\"TARGNON\",\n",
    "    \"6732\":\"STAVELOT\",\n",
    "    \"6753\":\"LASNENVILLE\",\n",
    "    \"6803\":\"CHEVRON\",\n",
    "    \"6832\":\"TROIS-PONTS\",\n",
    "    \"6933\":\"MALMEDY\",\n",
    "    \"6946\":\"BEVERCE\",\n",
    "    \"6971\":\"WIRTZFELD\",\n",
    "    \"6981\":\"BULLINGEN\",\n",
    "    \"6991\":\"MALMEDY Warchenne\",\n",
    "    \"7132\":\"AMAY\",\n",
    "    \"7228\":\"MODAVE\",\n",
    "    \"7242\":\"MOHA\",\n",
    "    \"7244\":\"HUCCORGNE\",\n",
    "    \"7319\":\"SALZINNES Ronet (Namur)\",\n",
    "    \"7487\":\"SOLRE\",\n",
    "    \"7711\":\"JAMIOULX\",\n",
    "    \"7781\":\"WALCOURT (GARE)\",\n",
    "    \"7784\":\"WALCOURT (SEUIL)\",\n",
    "    \"7812\":\"WALCOURT-VOGENEE\",\n",
    "    \"7831\":\"SILENRIEUX (BARRAGE,)\",\n",
    "    \"7843\":\"BOUSSU-LEZ-WALCOURT\",\n",
    "    \"7863\":\"SILENRIEUX (RY)\",\n",
    "    \"7883\":\"SOUMOY\",\n",
    "    \"7891\":\"CERFONTAINE\",\n",
    "    \"7944\":\"WIHERIES\",\n",
    "    \"7978\":\"BERSILLIES-L'ABBAYE\",\n",
    "    \"8134\":\"YVOIR\",\n",
    "    \"8163\":\"WARNANT\",\n",
    "    \"8166\":\"SOSOYE\",\n",
    "    \"8181\":\"FOY\",\n",
    "    \"8221\":\"GENDRON\",\n",
    "    \"8341\":\"DAVERDISSE\",\n",
    "    \"8527\":\"JEMELLE\",\n",
    "    \"8622\":\"HASTIERE\",\n",
    "    \"8661\":\"FELENNE\",\n",
    "    \"8702\":\"CHOOZ\",\n",
    "    \"9021\":\"TREIGNES\",\n",
    "    \"9071\":\"COUVIN\",\n",
    "    \"9081\":\"NISMES\",\n",
    "    \"9111\":\"MARIEMBOURG\",\n",
    "    \"9201\":\"COUVIN Ry de Rome\",\n",
    "    \"9221\":\"PETIGNY Ry de Rome\",\n",
    "    \"9223\":\"PETIGNY Ermitage\",\n",
    "    \"9224\":\"PETIGNY Fd Serpents\",\n",
    "    \"9232\":\"BRULY\",\n",
    "    \"9434\":\"MEMBRE Pont\",\n",
    "    \"9461\":\"BOUILLON\",\n",
    "    \"9541\":\"CHINY\",\n",
    "    \"9561\":\"TINTIGNY\",\n",
    "    \"9571\":\"SAINTE-MARIE\",\n",
    "    \"9651\":\"STRAIMONT\",\n",
    "    \"9741\":\"TORGNY\",\n",
    "}"
   ]
  },
  {
   "cell_type": "code",
   "execution_count": 3,
   "metadata": {},
   "outputs": [],
   "source": [
    "# about the requester, make sure the eimail address is valid\n",
    "# you will receive all zipped csv files here\n",
    "name = \"RikDeDeken\"\n",
    "address = \"Buitendijk3HeinenoordNL\"\n",
    "email = \"hydro%40parelmoer.xs4all.nl\"\n"
   ]
  },
  {
   "cell_type": "markdown",
   "metadata": {},
   "source": [
    "```\n",
    "code  explanation   type of observation\n",
    "0015  precipitation Pluviographes\n",
    "1002  debit         Limnigraphes\n",
    "1011  hauteur       Limnigraphes\n",
    "```"
   ]
  },
  {
   "cell_type": "markdown",
   "metadata": {},
   "source": [
    "```\n",
    "Tableau\n",
    "Graphique\n",
    "Téléchargement\n",
    "```"
   ]
  },
  {
   "cell_type": "code",
   "execution_count": null,
   "metadata": {},
   "outputs": [],
   "source": []
  },
  {
   "cell_type": "code",
   "execution_count": null,
   "metadata": {},
   "outputs": [],
   "source": []
  },
  {
   "cell_type": "raw",
   "metadata": {},
   "source": [
    "station_code = list(debit_stations.keys())[0]\n",
    "obs_code = \"1002\"\n"
   ]
  },
  {
   "cell_type": "code",
   "execution_count": 4,
   "metadata": {},
   "outputs": [],
   "source": [
    "url  = \"http://voies-hydrauliques.wallonie.be\"\n",
    "url += \"/opencms/opencms/fr/hydro/Archive/annuaires/stathorairetele.do?\"\n",
    "url += \"PD=Téléchargement\"\n",
    "url += \"&\"\n",
    "url += \"nom=\"\n",
    "url += name\n",
    "url += \"&\"\n",
    "url += \"adresse=\"\n",
    "url += address\n",
    "url += \"&\"\n",
    "url += \"email=\"\n",
    "url += email\n",
    "url += \"&\"\n",
    "url += \"objectif=etude\"\n",
    "url += \"&\"\n",
    "url += \"util=util\"\n",
    "url += \"&\"\n",
    "# url += \"code=\"\n",
    "# url += station_code\n",
    "# url += obs_code\n"
   ]
  },
  {
   "cell_type": "code",
   "execution_count": 5,
   "metadata": {},
   "outputs": [
    {
     "data": {
      "text/plain": [
       "'http://voies-hydrauliques.wallonie.be/opencms/opencms/fr/hydro/Archive/annuaires/stathorairetele.do?PD=Téléchargement&nom=RikDeDeken&adresse=Buitendijk3HeinenoordNL&email=hydro%40parelmoer.xs4all.nl&objectif=etude&util=util&'"
      ]
     },
     "execution_count": 5,
     "metadata": {},
     "output_type": "execute_result"
    }
   ],
   "source": [
    "url"
   ]
  },
  {
   "cell_type": "raw",
   "metadata": {},
   "source": [
    "response = requests.get(url)"
   ]
  },
  {
   "cell_type": "code",
   "execution_count": 73,
   "metadata": {
    "scrolled": false
   },
   "outputs": [
    {
     "name": "stdout",
     "output_type": "stream",
     "text": [
      "requesting hourly Q from 5572 BERGILERS Amont http://voies-hydrauliques.wallonie.be/opencms/opencms/fr/hydro/Archive/annuaires/stathorairetele.do?PD=Téléchargement&nom=RikDeDeken&adresse=Buitendijk3HeinenoordNL&email=hydro%40parelmoer.xs4all.nl&objectif=etude&util=util&code=55721002\n",
      "sleeping 20 seconds...\n",
      "requesting hourly Q from 5826 SAUHEID http://voies-hydrauliques.wallonie.be/opencms/opencms/fr/hydro/Archive/annuaires/stathorairetele.do?PD=Téléchargement&nom=RikDeDeken&adresse=Buitendijk3HeinenoordNL&email=hydro%40parelmoer.xs4all.nl&objectif=etude&util=util&code=58261002\n",
      "sleeping 20 seconds...\n",
      "requesting hourly Q from 5953 DURBUY http://voies-hydrauliques.wallonie.be/opencms/opencms/fr/hydro/Archive/annuaires/stathorairetele.do?PD=Téléchargement&nom=RikDeDeken&adresse=Buitendijk3HeinenoordNL&email=hydro%40parelmoer.xs4all.nl&objectif=etude&util=util&code=59531002\n",
      "sleeping 20 seconds...\n",
      "requesting hourly Q from 5962 HOTTON http://voies-hydrauliques.wallonie.be/opencms/opencms/fr/hydro/Archive/annuaires/stathorairetele.do?PD=Téléchargement&nom=RikDeDeken&adresse=Buitendijk3HeinenoordNL&email=hydro%40parelmoer.xs4all.nl&objectif=etude&util=util&code=59621002\n",
      "sleeping 20 seconds...\n",
      "requesting hourly Q from 5991 NISRAMONT http://voies-hydrauliques.wallonie.be/opencms/opencms/fr/hydro/Archive/annuaires/stathorairetele.do?PD=Téléchargement&nom=RikDeDeken&adresse=Buitendijk3HeinenoordNL&email=hydro%40parelmoer.xs4all.nl&objectif=etude&util=util&code=59911002\n",
      "sleeping 20 seconds...\n",
      "requesting hourly Q from 6021 MABOMPRE http://voies-hydrauliques.wallonie.be/opencms/opencms/fr/hydro/Archive/annuaires/stathorairetele.do?PD=Téléchargement&nom=RikDeDeken&adresse=Buitendijk3HeinenoordNL&email=hydro%40parelmoer.xs4all.nl&objectif=etude&util=util&code=60211002\n",
      "sleeping 20 seconds...\n",
      "requesting hourly Q from 6122 ORTHO http://voies-hydrauliques.wallonie.be/opencms/opencms/fr/hydro/Archive/annuaires/stathorairetele.do?PD=Téléchargement&nom=RikDeDeken&adresse=Buitendijk3HeinenoordNL&email=hydro%40parelmoer.xs4all.nl&objectif=etude&util=util&code=61221002\n",
      "sleeping 20 seconds...\n",
      "requesting hourly Q from 6228 CHAUDFONTAINE Pisc http://voies-hydrauliques.wallonie.be/opencms/opencms/fr/hydro/Archive/annuaires/stathorairetele.do?PD=Téléchargement&nom=RikDeDeken&adresse=Buitendijk3HeinenoordNL&email=hydro%40parelmoer.xs4all.nl&objectif=etude&util=util&code=62281002\n",
      "sleeping 20 seconds...\n",
      "requesting hourly Q from 6526 BELLEHEID http://voies-hydrauliques.wallonie.be/opencms/opencms/fr/hydro/Archive/annuaires/stathorairetele.do?PD=Téléchargement&nom=RikDeDeken&adresse=Buitendijk3HeinenoordNL&email=hydro%40parelmoer.xs4all.nl&objectif=etude&util=util&code=65261002\n",
      "sleeping 20 seconds...\n",
      "requesting hourly Q from 6671 TARGNON http://voies-hydrauliques.wallonie.be/opencms/opencms/fr/hydro/Archive/annuaires/stathorairetele.do?PD=Téléchargement&nom=RikDeDeken&adresse=Buitendijk3HeinenoordNL&email=hydro%40parelmoer.xs4all.nl&objectif=etude&util=util&code=66711002\n",
      "sleeping 20 seconds...\n",
      "requesting hourly Q from 6732 STAVELOT http://voies-hydrauliques.wallonie.be/opencms/opencms/fr/hydro/Archive/annuaires/stathorairetele.do?PD=Téléchargement&nom=RikDeDeken&adresse=Buitendijk3HeinenoordNL&email=hydro%40parelmoer.xs4all.nl&objectif=etude&util=util&code=67321002\n",
      "sleeping 20 seconds...\n",
      "requesting hourly Q from 6753 LASNENVILLE http://voies-hydrauliques.wallonie.be/opencms/opencms/fr/hydro/Archive/annuaires/stathorairetele.do?PD=Téléchargement&nom=RikDeDeken&adresse=Buitendijk3HeinenoordNL&email=hydro%40parelmoer.xs4all.nl&objectif=etude&util=util&code=67531002\n",
      "sleeping 20 seconds...\n",
      "requesting hourly Q from 6803 CHEVRON http://voies-hydrauliques.wallonie.be/opencms/opencms/fr/hydro/Archive/annuaires/stathorairetele.do?PD=Téléchargement&nom=RikDeDeken&adresse=Buitendijk3HeinenoordNL&email=hydro%40parelmoer.xs4all.nl&objectif=etude&util=util&code=68031002\n",
      "sleeping 20 seconds...\n",
      "requesting hourly Q from 6933 MALMEDY http://voies-hydrauliques.wallonie.be/opencms/opencms/fr/hydro/Archive/annuaires/stathorairetele.do?PD=Téléchargement&nom=RikDeDeken&adresse=Buitendijk3HeinenoordNL&email=hydro%40parelmoer.xs4all.nl&objectif=etude&util=util&code=69331002\n",
      "sleeping 20 seconds...\n",
      "requesting hourly Q from 6946 BEVERCE http://voies-hydrauliques.wallonie.be/opencms/opencms/fr/hydro/Archive/annuaires/stathorairetele.do?PD=Téléchargement&nom=RikDeDeken&adresse=Buitendijk3HeinenoordNL&email=hydro%40parelmoer.xs4all.nl&objectif=etude&util=util&code=69461002\n",
      "sleeping 20 seconds...\n",
      "requesting hourly Q from 6971 WIRTZFELD http://voies-hydrauliques.wallonie.be/opencms/opencms/fr/hydro/Archive/annuaires/stathorairetele.do?PD=Téléchargement&nom=RikDeDeken&adresse=Buitendijk3HeinenoordNL&email=hydro%40parelmoer.xs4all.nl&objectif=etude&util=util&code=69711002\n",
      "sleeping 20 seconds...\n",
      "requesting hourly Q from 6981 BULLINGEN http://voies-hydrauliques.wallonie.be/opencms/opencms/fr/hydro/Archive/annuaires/stathorairetele.do?PD=Téléchargement&nom=RikDeDeken&adresse=Buitendijk3HeinenoordNL&email=hydro%40parelmoer.xs4all.nl&objectif=etude&util=util&code=69811002\n",
      "sleeping 20 seconds...\n",
      "requesting hourly Q from 6991 MALMEDY Warchenne http://voies-hydrauliques.wallonie.be/opencms/opencms/fr/hydro/Archive/annuaires/stathorairetele.do?PD=Téléchargement&nom=RikDeDeken&adresse=Buitendijk3HeinenoordNL&email=hydro%40parelmoer.xs4all.nl&objectif=etude&util=util&code=69911002\n",
      "sleeping 20 seconds...\n",
      "requesting hourly Q from 7228 MODAVE http://voies-hydrauliques.wallonie.be/opencms/opencms/fr/hydro/Archive/annuaires/stathorairetele.do?PD=Téléchargement&nom=RikDeDeken&adresse=Buitendijk3HeinenoordNL&email=hydro%40parelmoer.xs4all.nl&objectif=etude&util=util&code=72281002\n",
      "sleeping 20 seconds...\n",
      "requesting hourly Q from 7244 HUCCORGNE http://voies-hydrauliques.wallonie.be/opencms/opencms/fr/hydro/Archive/annuaires/stathorairetele.do?PD=Téléchargement&nom=RikDeDeken&adresse=Buitendijk3HeinenoordNL&email=hydro%40parelmoer.xs4all.nl&objectif=etude&util=util&code=72441002\n",
      "sleeping 20 seconds...\n",
      "requesting hourly Q from 7487 SOLRE http://voies-hydrauliques.wallonie.be/opencms/opencms/fr/hydro/Archive/annuaires/stathorairetele.do?PD=Téléchargement&nom=RikDeDeken&adresse=Buitendijk3HeinenoordNL&email=hydro%40parelmoer.xs4all.nl&objectif=etude&util=util&code=74871002\n",
      "sleeping 20 seconds...\n",
      "requesting hourly Q from 7711 JAMIOULX http://voies-hydrauliques.wallonie.be/opencms/opencms/fr/hydro/Archive/annuaires/stathorairetele.do?PD=Téléchargement&nom=RikDeDeken&adresse=Buitendijk3HeinenoordNL&email=hydro%40parelmoer.xs4all.nl&objectif=etude&util=util&code=77111002\n",
      "sleeping 20 seconds...\n",
      "requesting hourly Q from 7781 WALCOURT (GARE) http://voies-hydrauliques.wallonie.be/opencms/opencms/fr/hydro/Archive/annuaires/stathorairetele.do?PD=Téléchargement&nom=RikDeDeken&adresse=Buitendijk3HeinenoordNL&email=hydro%40parelmoer.xs4all.nl&objectif=etude&util=util&code=77811002\n",
      "sleeping 20 seconds...\n",
      "requesting hourly Q from 7784 WALCOURT (SEUIL) http://voies-hydrauliques.wallonie.be/opencms/opencms/fr/hydro/Archive/annuaires/stathorairetele.do?PD=Téléchargement&nom=RikDeDeken&adresse=Buitendijk3HeinenoordNL&email=hydro%40parelmoer.xs4all.nl&objectif=etude&util=util&code=77841002\n",
      "sleeping 20 seconds...\n",
      "requesting hourly Q from 7812 WALCOURT-VOGENEE http://voies-hydrauliques.wallonie.be/opencms/opencms/fr/hydro/Archive/annuaires/stathorairetele.do?PD=Téléchargement&nom=RikDeDeken&adresse=Buitendijk3HeinenoordNL&email=hydro%40parelmoer.xs4all.nl&objectif=etude&util=util&code=78121002\n",
      "sleeping 20 seconds...\n",
      "requesting hourly Q from 7831 SILENRIEUX (BARRAGE,) http://voies-hydrauliques.wallonie.be/opencms/opencms/fr/hydro/Archive/annuaires/stathorairetele.do?PD=Téléchargement&nom=RikDeDeken&adresse=Buitendijk3HeinenoordNL&email=hydro%40parelmoer.xs4all.nl&objectif=etude&util=util&code=78311002\n",
      "sleeping 20 seconds...\n",
      "requesting hourly Q from 7843 BOUSSU-LEZ-WALCOURT http://voies-hydrauliques.wallonie.be/opencms/opencms/fr/hydro/Archive/annuaires/stathorairetele.do?PD=Téléchargement&nom=RikDeDeken&adresse=Buitendijk3HeinenoordNL&email=hydro%40parelmoer.xs4all.nl&objectif=etude&util=util&code=78431002\n",
      "sleeping 20 seconds...\n",
      "requesting hourly Q from 7863 SILENRIEUX (RY) http://voies-hydrauliques.wallonie.be/opencms/opencms/fr/hydro/Archive/annuaires/stathorairetele.do?PD=Téléchargement&nom=RikDeDeken&adresse=Buitendijk3HeinenoordNL&email=hydro%40parelmoer.xs4all.nl&objectif=etude&util=util&code=78631002\n"
     ]
    },
    {
     "name": "stdout",
     "output_type": "stream",
     "text": [
      "sleeping 20 seconds...\n",
      "requesting hourly Q from 7883 SOUMOY http://voies-hydrauliques.wallonie.be/opencms/opencms/fr/hydro/Archive/annuaires/stathorairetele.do?PD=Téléchargement&nom=RikDeDeken&adresse=Buitendijk3HeinenoordNL&email=hydro%40parelmoer.xs4all.nl&objectif=etude&util=util&code=78831002\n",
      "sleeping 20 seconds...\n",
      "requesting hourly Q from 7891 CERFONTAINE http://voies-hydrauliques.wallonie.be/opencms/opencms/fr/hydro/Archive/annuaires/stathorairetele.do?PD=Téléchargement&nom=RikDeDeken&adresse=Buitendijk3HeinenoordNL&email=hydro%40parelmoer.xs4all.nl&objectif=etude&util=util&code=78911002\n",
      "sleeping 20 seconds...\n",
      "requesting hourly Q from 7944 WIHERIES http://voies-hydrauliques.wallonie.be/opencms/opencms/fr/hydro/Archive/annuaires/stathorairetele.do?PD=Téléchargement&nom=RikDeDeken&adresse=Buitendijk3HeinenoordNL&email=hydro%40parelmoer.xs4all.nl&objectif=etude&util=util&code=79441002\n",
      "sleeping 20 seconds...\n",
      "requesting hourly Q from 7978 BERSILLIES-L'ABBAYE http://voies-hydrauliques.wallonie.be/opencms/opencms/fr/hydro/Archive/annuaires/stathorairetele.do?PD=Téléchargement&nom=RikDeDeken&adresse=Buitendijk3HeinenoordNL&email=hydro%40parelmoer.xs4all.nl&objectif=etude&util=util&code=79781002\n",
      "sleeping 20 seconds...\n",
      "requesting hourly Q from 8134 YVOIR http://voies-hydrauliques.wallonie.be/opencms/opencms/fr/hydro/Archive/annuaires/stathorairetele.do?PD=Téléchargement&nom=RikDeDeken&adresse=Buitendijk3HeinenoordNL&email=hydro%40parelmoer.xs4all.nl&objectif=etude&util=util&code=81341002\n",
      "sleeping 20 seconds...\n",
      "requesting hourly Q from 8163 WARNANT http://voies-hydrauliques.wallonie.be/opencms/opencms/fr/hydro/Archive/annuaires/stathorairetele.do?PD=Téléchargement&nom=RikDeDeken&adresse=Buitendijk3HeinenoordNL&email=hydro%40parelmoer.xs4all.nl&objectif=etude&util=util&code=81631002\n",
      "sleeping 20 seconds...\n",
      "requesting hourly Q from 8166 SOSOYE http://voies-hydrauliques.wallonie.be/opencms/opencms/fr/hydro/Archive/annuaires/stathorairetele.do?PD=Téléchargement&nom=RikDeDeken&adresse=Buitendijk3HeinenoordNL&email=hydro%40parelmoer.xs4all.nl&objectif=etude&util=util&code=81661002\n",
      "sleeping 20 seconds...\n",
      "requesting hourly Q from 8181 FOY http://voies-hydrauliques.wallonie.be/opencms/opencms/fr/hydro/Archive/annuaires/stathorairetele.do?PD=Téléchargement&nom=RikDeDeken&adresse=Buitendijk3HeinenoordNL&email=hydro%40parelmoer.xs4all.nl&objectif=etude&util=util&code=81811002\n",
      "sleeping 20 seconds...\n",
      "requesting hourly Q from 8341 DAVERDISSE http://voies-hydrauliques.wallonie.be/opencms/opencms/fr/hydro/Archive/annuaires/stathorairetele.do?PD=Téléchargement&nom=RikDeDeken&adresse=Buitendijk3HeinenoordNL&email=hydro%40parelmoer.xs4all.nl&objectif=etude&util=util&code=83411002\n",
      "sleeping 20 seconds...\n",
      "requesting hourly Q from 8527 JEMELLE http://voies-hydrauliques.wallonie.be/opencms/opencms/fr/hydro/Archive/annuaires/stathorairetele.do?PD=Téléchargement&nom=RikDeDeken&adresse=Buitendijk3HeinenoordNL&email=hydro%40parelmoer.xs4all.nl&objectif=etude&util=util&code=85271002\n",
      "sleeping 20 seconds...\n",
      "requesting hourly Q from 8622 HASTIERE http://voies-hydrauliques.wallonie.be/opencms/opencms/fr/hydro/Archive/annuaires/stathorairetele.do?PD=Téléchargement&nom=RikDeDeken&adresse=Buitendijk3HeinenoordNL&email=hydro%40parelmoer.xs4all.nl&objectif=etude&util=util&code=86221002\n",
      "sleeping 20 seconds...\n",
      "requesting hourly Q from 8661 FELENNE http://voies-hydrauliques.wallonie.be/opencms/opencms/fr/hydro/Archive/annuaires/stathorairetele.do?PD=Téléchargement&nom=RikDeDeken&adresse=Buitendijk3HeinenoordNL&email=hydro%40parelmoer.xs4all.nl&objectif=etude&util=util&code=86611002\n",
      "sleeping 20 seconds...\n",
      "requesting hourly Q from 9071 COUVIN http://voies-hydrauliques.wallonie.be/opencms/opencms/fr/hydro/Archive/annuaires/stathorairetele.do?PD=Téléchargement&nom=RikDeDeken&adresse=Buitendijk3HeinenoordNL&email=hydro%40parelmoer.xs4all.nl&objectif=etude&util=util&code=90711002\n",
      "sleeping 20 seconds...\n",
      "requesting hourly Q from 9081 NISMES http://voies-hydrauliques.wallonie.be/opencms/opencms/fr/hydro/Archive/annuaires/stathorairetele.do?PD=Téléchargement&nom=RikDeDeken&adresse=Buitendijk3HeinenoordNL&email=hydro%40parelmoer.xs4all.nl&objectif=etude&util=util&code=90811002\n",
      "sleeping 20 seconds...\n",
      "requesting hourly Q from 9111 MARIEMBOURG http://voies-hydrauliques.wallonie.be/opencms/opencms/fr/hydro/Archive/annuaires/stathorairetele.do?PD=Téléchargement&nom=RikDeDeken&adresse=Buitendijk3HeinenoordNL&email=hydro%40parelmoer.xs4all.nl&objectif=etude&util=util&code=91111002\n",
      "sleeping 20 seconds...\n",
      "requesting hourly Q from 9201 COUVIN Ry de Rome http://voies-hydrauliques.wallonie.be/opencms/opencms/fr/hydro/Archive/annuaires/stathorairetele.do?PD=Téléchargement&nom=RikDeDeken&adresse=Buitendijk3HeinenoordNL&email=hydro%40parelmoer.xs4all.nl&objectif=etude&util=util&code=92011002\n",
      "sleeping 20 seconds...\n",
      "requesting hourly Q from 9221 PETIGNY Ry de Rome http://voies-hydrauliques.wallonie.be/opencms/opencms/fr/hydro/Archive/annuaires/stathorairetele.do?PD=Téléchargement&nom=RikDeDeken&adresse=Buitendijk3HeinenoordNL&email=hydro%40parelmoer.xs4all.nl&objectif=etude&util=util&code=92211002\n",
      "sleeping 20 seconds...\n",
      "requesting hourly Q from 9223 PETIGNY Ermitage http://voies-hydrauliques.wallonie.be/opencms/opencms/fr/hydro/Archive/annuaires/stathorairetele.do?PD=Téléchargement&nom=RikDeDeken&adresse=Buitendijk3HeinenoordNL&email=hydro%40parelmoer.xs4all.nl&objectif=etude&util=util&code=92231002\n",
      "sleeping 20 seconds...\n",
      "requesting hourly Q from 9224 PETIGNY Fd Serpents http://voies-hydrauliques.wallonie.be/opencms/opencms/fr/hydro/Archive/annuaires/stathorairetele.do?PD=Téléchargement&nom=RikDeDeken&adresse=Buitendijk3HeinenoordNL&email=hydro%40parelmoer.xs4all.nl&objectif=etude&util=util&code=92241002\n",
      "sleeping 20 seconds...\n",
      "requesting hourly Q from 9232 BRULY http://voies-hydrauliques.wallonie.be/opencms/opencms/fr/hydro/Archive/annuaires/stathorairetele.do?PD=Téléchargement&nom=RikDeDeken&adresse=Buitendijk3HeinenoordNL&email=hydro%40parelmoer.xs4all.nl&objectif=etude&util=util&code=92321002\n",
      "sleeping 20 seconds...\n",
      "requesting hourly Q from 9461 BOUILLON http://voies-hydrauliques.wallonie.be/opencms/opencms/fr/hydro/Archive/annuaires/stathorairetele.do?PD=Téléchargement&nom=RikDeDeken&adresse=Buitendijk3HeinenoordNL&email=hydro%40parelmoer.xs4all.nl&objectif=etude&util=util&code=94611002\n",
      "sleeping 20 seconds...\n",
      "requesting hourly Q from 9541 CHINY http://voies-hydrauliques.wallonie.be/opencms/opencms/fr/hydro/Archive/annuaires/stathorairetele.do?PD=Téléchargement&nom=RikDeDeken&adresse=Buitendijk3HeinenoordNL&email=hydro%40parelmoer.xs4all.nl&objectif=etude&util=util&code=95411002\n",
      "sleeping 20 seconds...\n",
      "requesting hourly Q from 9561 TINTIGNY http://voies-hydrauliques.wallonie.be/opencms/opencms/fr/hydro/Archive/annuaires/stathorairetele.do?PD=Téléchargement&nom=RikDeDeken&adresse=Buitendijk3HeinenoordNL&email=hydro%40parelmoer.xs4all.nl&objectif=etude&util=util&code=95611002\n",
      "sleeping 20 seconds...\n",
      "requesting hourly Q from 9571 SAINTE-MARIE http://voies-hydrauliques.wallonie.be/opencms/opencms/fr/hydro/Archive/annuaires/stathorairetele.do?PD=Téléchargement&nom=RikDeDeken&adresse=Buitendijk3HeinenoordNL&email=hydro%40parelmoer.xs4all.nl&objectif=etude&util=util&code=95711002\n",
      "sleeping 20 seconds...\n",
      "requesting hourly Q from 9651 STRAIMONT http://voies-hydrauliques.wallonie.be/opencms/opencms/fr/hydro/Archive/annuaires/stathorairetele.do?PD=Téléchargement&nom=RikDeDeken&adresse=Buitendijk3HeinenoordNL&email=hydro%40parelmoer.xs4all.nl&objectif=etude&util=util&code=96511002\n",
      "sleeping 20 seconds...\n",
      "requesting hourly Q from 9741 TORGNY http://voies-hydrauliques.wallonie.be/opencms/opencms/fr/hydro/Archive/annuaires/stathorairetele.do?PD=Téléchargement&nom=RikDeDeken&adresse=Buitendijk3HeinenoordNL&email=hydro%40parelmoer.xs4all.nl&objectif=etude&util=util&code=97411002\n",
      "sleeping 20 seconds...\n"
     ]
    }
   ],
   "source": [
    "for station_code in list(debit_stations.keys()):\n",
    "    station_name = debit_stations[station_code]\n",
    "    this_url = url + \"code=\"\n",
    "    this_url += station_code\n",
    "    this_url += obs_code\n",
    "    print(\"requesting hourly Q from\", station_code, station_name, this_url)\n",
    "    response = requests.get(this_url)\n",
    "    print(\"sleeping 20 seconds...\")\n",
    "    time.sleep(20)\n",
    "#\n"
   ]
  },
  {
   "cell_type": "code",
   "execution_count": 74,
   "metadata": {},
   "outputs": [
    {
     "data": {
      "text/plain": [
       "54"
      ]
     },
     "execution_count": 74,
     "metadata": {},
     "output_type": "execute_result"
    }
   ],
   "source": [
    "len(debit_stations)"
   ]
  },
  {
   "cell_type": "code",
   "execution_count": null,
   "metadata": {},
   "outputs": [],
   "source": []
  },
  {
   "cell_type": "code",
   "execution_count": null,
   "metadata": {},
   "outputs": [],
   "source": []
  },
  {
   "cell_type": "code",
   "execution_count": null,
   "metadata": {},
   "outputs": [],
   "source": []
  },
  {
   "cell_type": "code",
   "execution_count": null,
   "metadata": {},
   "outputs": [],
   "source": []
  }
 ],
 "metadata": {
  "kernelspec": {
   "display_name": "Python 3",
   "language": "python",
   "name": "python3"
  },
  "language_info": {
   "codemirror_mode": {
    "name": "ipython",
    "version": 3
   },
   "file_extension": ".py",
   "mimetype": "text/x-python",
   "name": "python",
   "nbconvert_exporter": "python",
   "pygments_lexer": "ipython3",
   "version": "3.6.8"
  }
 },
 "nbformat": 4,
 "nbformat_minor": 2
}
